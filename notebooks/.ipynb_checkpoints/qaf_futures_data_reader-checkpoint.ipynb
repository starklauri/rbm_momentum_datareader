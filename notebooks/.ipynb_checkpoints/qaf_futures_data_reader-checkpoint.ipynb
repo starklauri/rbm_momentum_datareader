{
 "cells": [
  {
   "cell_type": "code",
   "execution_count": 170,
   "metadata": {
    "collapsed": true
   },
   "outputs": [],
   "source": [
    "import pandas as pd\n",
    "import numpy as np"
   ]
  },
  {
   "cell_type": "code",
   "execution_count": 174,
   "metadata": {
    "collapsed": true
   },
   "outputs": [],
   "source": [
    "# Read futures return data\n",
    "used_data = pd.read_csv('../data/data.csv', index_col=0, parse_dates=True)"
   ]
  },
  {
   "cell_type": "code",
   "execution_count": 175,
   "metadata": {
    "collapsed": false
   },
   "outputs": [],
   "source": [
    "# Prices and returns\n",
    "S = np.exp(used_data.fillna(0)).cumprod()\n",
    "ret_day = used_data.fillna(0)\n",
    "ret_mon = S.resample('1BM').ffill().pct_change()\n",
    "ret_mon['median_t+1'] = ret_mon.median(1).shift(-1)\n",
    "ret_mon = ret_mon.dropna()"
   ]
  },
  {
   "cell_type": "code",
   "execution_count": 176,
   "metadata": {
    "collapsed": false
   },
   "outputs": [],
   "source": [
    "# 1 for winner, 0 for loser\n",
    "labels = ret_mon[ret_mon.columns[:-1]].gt(ret_mon['median_t+1'], axis=0).astype(int)\n",
    "ret_mon['JAN'] = (ret_mon.index.month == 1).astype(int)\n",
    "ret_mon = ret_mon.reset_index()\n",
    "\n",
    "# update column names after index reset\n",
    "cols = ret_mon.columns.values\n",
    "cols[0] = 'date'\n",
    "ret_mon.columns = cols"
   ]
  },
  {
   "cell_type": "code",
   "execution_count": 311,
   "metadata": {
    "collapsed": false
   },
   "outputs": [],
   "source": [
    "tic = 'ES'\n",
    "daily = ret_day[tic]\n",
    "dfs = []\n",
    "for t in range(13, len(ret_mon)):\n",
    "    current_y = ret_mon['date'].iloc[t].year\n",
    "    current_mon = ret_mon['date'].iloc[t].month\n",
    "    \n",
    "    start = t - 13\n",
    "    end = t - 2\n",
    "    \n",
    "    ret_mon_slice = ret_mon[tic].iloc[start:end+1]\n",
    "    jan = ret_mon.JAN.iloc[t]\n",
    "    label = labels[tic].iloc[t]\n",
    "  \n",
    "    last_date = (daily[(daily.index.year == current_y) \n",
    "                       & (daily.index.month == current_mon)].last_valid_index())\n",
    "    \n",
    "    last_date_loc = daily.index.get_loc(last_date)\n",
    "    start_date_loc = last_date_loc - 19\n",
    "    \n",
    "    daily_rets_slice = daily.iloc[start_date_loc:last_date_loc + 1]\n",
    "    \n",
    "    daily_rets_slice.index = ['R_d_' + str(i) for i in range(1, 21)]\n",
    "    ret_mon_slice.index = ['R_m_' + str(i) for i in range(1, 13)]\n",
    "    \n",
    "    conc = pd.concat([daily_rets_slice, ret_mon_slice])\n",
    "    conc['jan'] = jan\n",
    "    conc['label'] = label\n",
    "    conc = conc.to_frame()\n",
    "    conc.columns = [t]\n",
    "    dfs.append(conc)"
   ]
  },
  {
   "cell_type": "code",
   "execution_count": 313,
   "metadata": {
    "collapsed": false
   },
   "outputs": [],
   "source": [
    "#pd.concat(dfs, axis=1).T.to_csv('ES_w_features.csv')"
   ]
  },
  {
   "cell_type": "code",
   "execution_count": null,
   "metadata": {
    "collapsed": false
   },
   "outputs": [],
   "source": []
  },
  {
   "cell_type": "code",
   "execution_count": 217,
   "metadata": {
    "collapsed": false
   },
   "outputs": [],
   "source": []
  },
  {
   "cell_type": "code",
   "execution_count": null,
   "metadata": {
    "collapsed": false
   },
   "outputs": [],
   "source": []
  },
  {
   "cell_type": "code",
   "execution_count": null,
   "metadata": {
    "collapsed": true
   },
   "outputs": [],
   "source": []
  }
 ],
 "metadata": {
  "anaconda-cloud": {},
  "kernelspec": {
   "display_name": "Python [conda env:py36]",
   "language": "python",
   "name": "conda-env-py36-py"
  },
  "language_info": {
   "codemirror_mode": {
    "name": "ipython",
    "version": 3
   },
   "file_extension": ".py",
   "mimetype": "text/x-python",
   "name": "python",
   "nbconvert_exporter": "python",
   "pygments_lexer": "ipython3",
   "version": "3.6.1"
  }
 },
 "nbformat": 4,
 "nbformat_minor": 1
}
