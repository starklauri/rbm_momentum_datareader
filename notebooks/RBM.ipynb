{
 "cells": [
  {
   "cell_type": "code",
   "execution_count": 1,
   "metadata": {},
   "outputs": [],
   "source": [
    "import numpy as np\n",
    "import pandas as pd\n",
    "import torch\n",
    "import torch.utils.data\n",
    "import torch.nn as nn\n",
    "import torch.nn.functional as F\n",
    "import torch.optim as optim\n",
    "from torch.autograd import Variable\n",
    "from torchvision import datasets, transforms\n",
    "from torchvision.utils import make_grid , save_image"
   ]
  },
  {
   "cell_type": "code",
   "execution_count": 2,
   "metadata": {},
   "outputs": [],
   "source": [
    "V1 = 33\n",
    "H1 = 40\n",
    "V2 = H1\n",
    "H2 = 4\n",
    "\n",
    "FF_IN = H2"
   ]
  },
  {
   "cell_type": "code",
   "execution_count": 3,
   "metadata": {},
   "outputs": [],
   "source": [
    "%matplotlib inline\n",
    "import matplotlib.pyplot as plt\n",
    "\n",
    "USE_CUDA = False"
   ]
  },
  {
   "cell_type": "code",
   "execution_count": 58,
   "metadata": {},
   "outputs": [],
   "source": [
    "def read_data():\n",
    "    used_data = pd.read_csv('data/future_data.csv', index_col=0, parse_dates=True)\n",
    "\n",
    "    # Prices and returns\n",
    "    S = np.exp(used_data.fillna(0)).cumprod()\n",
    "    ret_day = used_data.fillna(0)\n",
    "    ret_mon = S.resample('1BM').ffill().pct_change()\n",
    "    ret_mon['median_t+1'] = ret_mon.median(1).shift(-1)\n",
    "    ret_mon = ret_mon.dropna()\n",
    "\n",
    "    # 1 for winner, 0 for loser\n",
    "    labels = ret_mon[ret_mon.columns[:-1]].gt(ret_mon['median_t+1'], axis=0).astype(int)\n",
    "    ret_mon['JAN'] = (ret_mon.index.month == 1).astype(int)\n",
    "    ret_mon = ret_mon.reset_index()\n",
    "\n",
    "    # update column names after index reset\n",
    "    cols = ret_mon.columns.values\n",
    "    cols[0] = 'date'\n",
    "    ret_mon.columns = cols\n",
    "    return labels, ret_mon, ret_day, used_data\n",
    "\n",
    "def get_data(limit_tic=None):\n",
    "    labels, ret_mon, ret_day, used_data = read_data()\n",
    "    \n",
    "    final_data = []\n",
    "    if limit_tic:\n",
    "        tickers = [limit_tic]\n",
    "    else:\n",
    "        tickers = used_data.columns\n",
    "    for tic in tickers:\n",
    "        daily = ret_day[tic]\n",
    "        dfs = []\n",
    "        for t in range(13, len(ret_mon)-1):\n",
    "            current_y = ret_mon['date'].iloc[t].year\n",
    "            current_mon = ret_mon['date'].iloc[t].month\n",
    "\n",
    "            start = t - 13\n",
    "            end = t - 2\n",
    "\n",
    "            ret_mon_slice = ret_mon[tic].iloc[start:end+1]\n",
    "            ret_mon_next = ret_mon[tic].iloc[t+1]\n",
    "            jan = ret_mon.JAN.iloc[t]\n",
    "            label = labels[tic].iloc[t]\n",
    "\n",
    "            last_date = (daily[(daily.index.year == current_y) \n",
    "                               & (daily.index.month == current_mon)].last_valid_index())\n",
    "\n",
    "            last_date_loc = daily.index.get_loc(last_date)\n",
    "            start_date_loc = last_date_loc - 19\n",
    "\n",
    "            daily_rets_slice = daily.iloc[start_date_loc:last_date_loc + 1]\n",
    "\n",
    "            daily_rets_slice.index = ['R_d_' + str(i) for i in range(1, 21)]\n",
    "            ret_mon_slice.index = ['R_m_' + str(i) for i in range(1, 13)]\n",
    "\n",
    "            conc = pd.concat([daily_rets_slice, ret_mon_slice])\n",
    "            conc['jan'] = jan\n",
    "            conc['label'] = label\n",
    "            conc['n_return'] = ret_mon_next\n",
    "            conc = conc.to_frame()\n",
    "            conc.columns = [t]\n",
    "            dfs.append(conc)\n",
    "        feats = pd.concat(dfs, axis=1).T\n",
    "        final_data.append(feats)\n",
    "        \n",
    "    return pd.concat(final_data, axis=0)"
   ]
  },
  {
   "cell_type": "code",
   "execution_count": null,
   "metadata": {},
   "outputs": [],
   "source": []
  },
  {
   "cell_type": "code",
   "execution_count": 5,
   "metadata": {},
   "outputs": [],
   "source": [
    "def data_importer(fname, train_set_size=0.75):\n",
    "    data = get_data()\n",
    "    X = data[data.columns[:-2]].as_matrix()\n",
    "    y = data.label.as_matrix()\n",
    "    \n",
    "    N = len(y)\n",
    "    train_set_stop = int(N * train_set_size)\n",
    "    \n",
    "    return X[0:train_set_stop], y[0: train_set_stop], X[train_set_stop:], y[train_set_stop:]"
   ]
  },
  {
   "cell_type": "code",
   "execution_count": 6,
   "metadata": {},
   "outputs": [],
   "source": [
    "class FutureDataset(torch.utils.data.Dataset):\n",
    "    def __init__(self, X, y):\n",
    "        self.X = X\n",
    "        self.y = y\n",
    "\n",
    "    def __len__(self):\n",
    "        return len(self.y)\n",
    "\n",
    "    def __getitem__(self, idx):\n",
    "        return self.X[idx], self.y[idx]"
   ]
  },
  {
   "cell_type": "code",
   "execution_count": 7,
   "metadata": {},
   "outputs": [],
   "source": [
    "class RBM(nn.Module):\n",
    "    def __init__(self,\n",
    "                 n_vis=33,\n",
    "                 n_hin=40,\n",
    "                 k=5):\n",
    "        super(RBM, self).__init__()\n",
    "        self.W = nn.Parameter(torch.randn(n_hin,n_vis)*1e-2)\n",
    "        self.v_bias = nn.Parameter(torch.zeros(n_vis))\n",
    "        self.h_bias = nn.Parameter(torch.zeros(n_hin))\n",
    "        self.k = k\n",
    "    \n",
    "    def sample_from_p(self,p):\n",
    "        return F.relu(torch.sign(p - Variable(torch.rand(p.size()))))\n",
    "    \n",
    "    def v_to_h(self,v):\n",
    "        p_h = F.sigmoid(F.linear(v,self.W,self.h_bias))\n",
    "        sample_h = self.sample_from_p(p_h)\n",
    "        return p_h,sample_h\n",
    "    \n",
    "    def h_to_v(self,h):\n",
    "        p_v = F.sigmoid(F.linear(h,self.W.t(),self.v_bias))\n",
    "        sample_v = self.sample_from_p(p_v)\n",
    "        return p_v,sample_v\n",
    "        \n",
    "    def forward(self,v):\n",
    "        pre_h1,h1 = self.v_to_h(v)\n",
    "        \n",
    "        h_ = h1\n",
    "        for _ in range(self.k):\n",
    "            pre_v_,v_ = self.h_to_v(h_)\n",
    "            pre_h_,h_ = self.v_to_h(v_)\n",
    "        \n",
    "        return v,v_\n",
    "    \n",
    "    def free_energy(self,v):\n",
    "        vbias_term = v.mv(self.v_bias)\n",
    "        wx_b = F.linear(v,self.W,self.h_bias)\n",
    "        hidden_term = wx_b.exp().add(1).log().sum(1)\n",
    "        return (-hidden_term - vbias_term).mean()\n",
    "    \n",
    "class FFNN(nn.Module):\n",
    "    def __init__(self):\n",
    "        super(FFNN, self).__init__()\n",
    "        self.fc1 = nn.Linear(H2, 50) \n",
    "        self.relu = nn.ReLU()\n",
    "        self.fc2 = nn.Linear(50, 2)  \n",
    "    \n",
    "    def forward(self, x):\n",
    "        out = self.fc1(x)\n",
    "        out = self.relu(out)\n",
    "        out = self.fc2(out)\n",
    "        return out"
   ]
  },
  {
   "cell_type": "code",
   "execution_count": 8,
   "metadata": {},
   "outputs": [],
   "source": [
    "batch_size = 64\n",
    "feature_size = 33\n",
    "\n",
    "Xtrain, ytrain, Xtest, ytest = data_importer(\"./data/ES_w_features.csv\")\n",
    "\n",
    "train_dataset = FutureDataset(Xtrain, ytrain)\n",
    "train_loader = torch.utils.data.DataLoader(train_dataset, batch_size=batch_size)\n",
    "\n",
    "test_dataset = FutureDataset(Xtest, ytest)\n",
    "test_loader = torch.utils.data.DataLoader(test_dataset, batch_size=batch_size)"
   ]
  },
  {
   "cell_type": "code",
   "execution_count": 9,
   "metadata": {},
   "outputs": [],
   "source": [
    "def layer_trainer(model, optimizer, previous_models=[], num_of_epochs=10):\n",
    "    print(\"Starting to train the model\")\n",
    "    for epoch in range(num_of_epochs):\n",
    "        loss_ = []\n",
    "        for _, (data,target) in enumerate(train_loader):\n",
    "            data = Variable(data.view(-1,feature_size)).float()\n",
    "            if USE_CUDA:\n",
    "                model.cuda()\n",
    "                data.cuda()\n",
    "\n",
    "            for prev_model in previous_models:\n",
    "                _, data = prev_model.v_to_h(data)\n",
    "\n",
    "            v, v1 = model(data)\n",
    "            loss = model.free_energy(v) - model.free_energy(v1)\n",
    "            loss_.append(loss.data[0])\n",
    "            optimizer.zero_grad()\n",
    "            loss.backward()\n",
    "            optimizer.step()\n",
    "\n",
    "    print(f\"Mean loss for EPOCH {epoch + 1}: {np.mean(loss_)}\")"
   ]
  },
  {
   "cell_type": "code",
   "execution_count": null,
   "metadata": {},
   "outputs": [],
   "source": []
  },
  {
   "cell_type": "code",
   "execution_count": 10,
   "metadata": {},
   "outputs": [
    {
     "name": "stdout",
     "output_type": "stream",
     "text": [
      "Starting to train the model\n",
      "Mean loss for EPOCH 10: -0.8518569946289063\n"
     ]
    }
   ],
   "source": [
    "rbm = RBM(k=1, n_vis=V1, n_hin=H1)\n",
    "layer_trainer(rbm, optim.SGD(rbm.parameters(), 0.1),num_of_epochs=10)"
   ]
  },
  {
   "cell_type": "code",
   "execution_count": 11,
   "metadata": {},
   "outputs": [
    {
     "name": "stdout",
     "output_type": "stream",
     "text": [
      "Starting to train the model\n",
      "Mean loss for EPOCH 10: 0.031651941935221355\n"
     ]
    }
   ],
   "source": [
    "rbm2 = RBM(k=1,n_vis=V2, n_hin=H2)\n",
    "layer_trainer(rbm2, optim.SGD(rbm2.parameters(), 0.1), [rbm], num_of_epochs=10)"
   ]
  },
  {
   "cell_type": "code",
   "execution_count": null,
   "metadata": {},
   "outputs": [],
   "source": []
  },
  {
   "cell_type": "code",
   "execution_count": null,
   "metadata": {},
   "outputs": [],
   "source": []
  },
  {
   "cell_type": "code",
   "execution_count": null,
   "metadata": {},
   "outputs": [],
   "source": []
  },
  {
   "cell_type": "code",
   "execution_count": null,
   "metadata": {},
   "outputs": [],
   "source": []
  },
  {
   "cell_type": "code",
   "execution_count": null,
   "metadata": {},
   "outputs": [],
   "source": []
  },
  {
   "cell_type": "code",
   "execution_count": 12,
   "metadata": {},
   "outputs": [],
   "source": [
    "ffnn = FFNN()\n",
    "\n",
    "criterion = nn.CrossEntropyLoss()  \n",
    "optimizer = torch.optim.SGD(ffnn.parameters(), 0.01)  "
   ]
  },
  {
   "cell_type": "code",
   "execution_count": 13,
   "metadata": {},
   "outputs": [
    {
     "name": "stdout",
     "output_type": "stream",
     "text": [
      "Accuracy:  0.511283185840708\n"
     ]
    }
   ],
   "source": [
    "correct = 0\n",
    "total = 0\n",
    "for epoch in range(10):\n",
    "        loss_ = []\n",
    "        for _, (data,target) in enumerate(train_loader):\n",
    "            data = Variable(data.view(-1,feature_size)).float()\n",
    "            labels = Variable(target).type(torch.LongTensor)\n",
    "\n",
    "            for prev_model in [rbm, rbm2]:\n",
    "                _, data = prev_model.v_to_h(data)\n",
    "            \n",
    "            outputs = ffnn(data)\n",
    "\n",
    "            loss = criterion(outputs, labels)\n",
    "            loss_.append(loss.data[0])\n",
    "            optimizer.zero_grad()\n",
    "            loss.backward()\n",
    "            optimizer.step()\n",
    "            \n",
    "            _, predicted = torch.max(outputs.data, 1)\n",
    "            total += labels.size(0)\n",
    "            correct += (predicted == labels.data).sum()\n",
    "print(\"Accuracy: \", correct/total)"
   ]
  },
  {
   "cell_type": "code",
   "execution_count": 14,
   "metadata": {},
   "outputs": [
    {
     "name": "stdout",
     "output_type": "stream",
     "text": [
      "Accuracy:  0.44039735099337746\n"
     ]
    }
   ],
   "source": [
    "correct = 0\n",
    "total = 0\n",
    "\n",
    "for _, (data,target) in enumerate(test_loader):\n",
    "    data = Variable(data.view(-1,feature_size)).float()\n",
    "    labels = Variable(target).type(torch.LongTensor)\n",
    "\n",
    "    for prev_model in [rbm, rbm2]:\n",
    "        _, data = prev_model.v_to_h(data)\n",
    "\n",
    "    outputs = ffnn(data)\n",
    "\n",
    "    _, predicted = torch.max(outputs.data, 1)\n",
    "    total += labels.size(0)\n",
    "    correct += (predicted == labels.data).sum()\n",
    "\n",
    "print(\"Accuracy: \", correct/total)"
   ]
  },
  {
   "cell_type": "code",
   "execution_count": null,
   "metadata": {},
   "outputs": [],
   "source": []
  },
  {
   "cell_type": "code",
   "execution_count": 15,
   "metadata": {},
   "outputs": [],
   "source": []
  },
  {
   "cell_type": "code",
   "execution_count": 84,
   "metadata": {},
   "outputs": [],
   "source": [
    "labels, ret_mon, ret_day, used_data = read_data()\n",
    "\n",
    "feats = get_data(\"FESX\")\n",
    "X = feats[feats.columns[:-2]].as_matrix()\n",
    "y = feats.label.as_matrix()"
   ]
  },
  {
   "cell_type": "code",
   "execution_count": 85,
   "metadata": {},
   "outputs": [],
   "source": [
    "prediction_outputs = []\n",
    "returns = []\n",
    "\n",
    "for idx, observation in enumerate(X):\n",
    "    data = torch.from_numpy(observation)\n",
    "\n",
    "    data = Variable(data).float()\n",
    "    for prev_model in [rbm, rbm2]:\n",
    "        _, data = prev_model.v_to_h(data)\n",
    "\n",
    "    outputs = ffnn(data)\n",
    "    prediction_outputs.append(outputs.data.numpy())\n",
    "\n"
   ]
  },
  {
   "cell_type": "code",
   "execution_count": 86,
   "metadata": {},
   "outputs": [
    {
     "name": "stdout",
     "output_type": "stream",
     "text": [
      "Number of samples:  201\n",
      "Real long count: 116.0\n",
      "Predicted long count: 197\n"
     ]
    },
    {
     "data": {
      "text/plain": [
       "<matplotlib.axes._subplots.AxesSubplot at 0x11d5b50f0>"
      ]
     },
     "execution_count": 86,
     "metadata": {},
     "output_type": "execute_result"
    },
    {
     "data": {
      "image/png": "[encoded data removed]",
      "text/plain": [
       "<Figure size 432x288 with 1 Axes>"
      ]
     },
     "metadata": {},
     "output_type": "display_data"
    }
   ],
   "source": [
    "print(\"Number of samples: \", len(y))\n",
    "print(\"Real long count:\", sum(y))\n",
    "\n",
    "result_df = pd.DataFrame(prediction_outputs, columns=[\"loser_p\", \"winner_p\"])\n",
    "result_df[\"label\"] = (result_df[\"winner_p\"] > result_df[\"loser_p\"]).astype(int)\n",
    "feats = feats.reset_index()\n",
    "result_df[\"n_return\"] = feats.n_return\n",
    "result_df[\"longshort\"] = result_df[\"label\"].map({1: 1, 0: -1})\n",
    "result_df[\"position_return\"] = result_df[\"longshort\"] * result_df[\"n_return\"]\n",
    "\n",
    "print(\"Predicted long count:\", sum(result_df[\"label\"]))\n",
    "(result_df[\"position_return\"] + 1).cumprod().plot(legend=True)\n",
    "tmp = ret_mon.FESX.iloc[13:]\n",
    "tmp = tmp.reset_index()\n",
    "(tmp.FESX + 1).cumprod().plot(legend=True)\n",
    "\n",
    "\n"
   ]
  },
  {
   "cell_type": "code",
   "execution_count": null,
   "metadata": {},
   "outputs": [],
   "source": [
    "result_df[\"label\"].hist()"
   ]
  },
  {
   "cell_type": "code",
   "execution_count": null,
   "metadata": {},
   "outputs": [],
   "source": []
  },
  {
   "cell_type": "code",
   "execution_count": null,
   "metadata": {},
   "outputs": [],
   "source": []
  }
 ],
 "metadata": {
  "kernelspec": {
   "display_name": "Python 3",
   "language": "python",
   "name": "python3"
  },
  "language_info": {
   "codemirror_mode": {
    "name": "ipython",
    "version": 3
   },
   "file_extension": ".py",
   "mimetype": "text/x-python",
   "name": "python",
   "nbconvert_exporter": "python",
   "pygments_lexer": "ipython3",
   "version": "3.6.5"
  }
 },
 "nbformat": 4,
 "nbformat_minor": 2
}
