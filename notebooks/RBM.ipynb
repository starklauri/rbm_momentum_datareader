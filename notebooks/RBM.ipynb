{
 "cells": [
  {
   "cell_type": "code",
   "execution_count": 201,
   "metadata": {},
   "outputs": [],
   "source": [
    "import numpy as np\n",
    "import pandas as pd\n",
    "import torch\n",
    "import torch.utils.data\n",
    "import torch.nn as nn\n",
    "import torch.nn.functional as F\n",
    "import torch.optim as optim\n",
    "from torch.autograd import Variable\n",
    "from torchvision import datasets, transforms\n",
    "from torchvision.utils import make_grid , save_image\n",
    "%matplotlib inline\n",
    "\n",
    "import matplotlib.pyplot as plt\n",
    "import matplotlib.image as mpimg\n",
    "\n",
    "from sklearn.ensemble import RandomForestClassifier, AdaBoostClassifier\n",
    "from sklearn.model_selection import cross_val_score\n",
    "from sklearn.naive_bayes import GaussianNB\n",
    "from sklearn.svm import SVC\n",
    "from sklearn.neural_network import MLPClassifier"
   ]
  },
  {
   "cell_type": "code",
   "execution_count": 2,
   "metadata": {},
   "outputs": [],
   "source": [
    "def read_data():\n",
    "    used_data = pd.read_csv('../data/data.csv', index_col=0, parse_dates=True)\n",
    "\n",
    "    # Prices and returns\n",
    "    S = np.exp(used_data.fillna(0)).cumprod()\n",
    "    ret_day = used_data.fillna(0)\n",
    "    ret_mon = S.resample('1BM').ffill().pct_change()\n",
    "    ret_mon['median_t+1'] = ret_mon.median(1).shift(-1)\n",
    "    ret_mon = ret_mon.dropna()\n",
    "\n",
    "    # 1 for winner, 0 for loser\n",
    "    labels = ret_mon[ret_mon.columns[:-1]].gt(ret_mon['median_t+1'], axis=0).astype(int)\n",
    "    ret_mon['JAN'] = (ret_mon.index.month == 1).astype(int)\n",
    "    ret_mon = ret_mon.reset_index()\n",
    "\n",
    "    # update column names after index reset\n",
    "    cols = ret_mon.columns.values\n",
    "    cols[0] = 'date'\n",
    "    ret_mon.columns = cols\n",
    "    return labels, ret_mon, ret_day, used_data\n",
    "\n",
    "def get_data(limit_tic=None):\n",
    "    labels, ret_mon, ret_day, used_data = read_data()\n",
    "    \n",
    "    final_data = []\n",
    "    if limit_tic:\n",
    "        tickers = [limit_tic]\n",
    "    else:\n",
    "        tickers = used_data.columns\n",
    "    for tic in tickers:\n",
    "        daily = ret_day[tic]\n",
    "        dfs = []\n",
    "        for t in range(13, len(ret_mon)-1):\n",
    "            current_y = ret_mon['date'].iloc[t].year\n",
    "            current_mon = ret_mon['date'].iloc[t].month\n",
    "\n",
    "            start = t - 13\n",
    "            end = t - 2\n",
    "\n",
    "            ret_mon_slice = ret_mon[tic].iloc[start:end+1]\n",
    "            ret_mon_next = ret_mon[tic].iloc[t+1]\n",
    "            jan = ret_mon.JAN.iloc[t]\n",
    "            label = labels[tic].iloc[t]\n",
    "\n",
    "            last_date = (daily[(daily.index.year == current_y) \n",
    "                               & (daily.index.month == current_mon)].last_valid_index())\n",
    "\n",
    "            last_date_loc = daily.index.get_loc(last_date)\n",
    "            start_date_loc = last_date_loc - 19\n",
    "\n",
    "            daily_rets_slice = daily.iloc[start_date_loc:last_date_loc + 1]\n",
    "\n",
    "            daily_rets_slice.index = ['R_d_' + str(i) for i in range(1, 21)]\n",
    "            ret_mon_slice.index = ['R_m_' + str(i) for i in range(1, 13)]\n",
    "\n",
    "            conc = pd.concat([daily_rets_slice, ret_mon_slice])\n",
    "            conc['jan'] = jan\n",
    "            conc['label'] = label\n",
    "            conc['n_return'] = ret_mon_next\n",
    "            conc = conc.to_frame()\n",
    "            conc.columns = [t]\n",
    "            dfs.append(conc)\n",
    "        feats = pd.concat(dfs, axis=1).T\n",
    "        final_data.append(feats)\n",
    "        \n",
    "    return pd.concat(final_data, axis=0)"
   ]
  },
  {
   "cell_type": "code",
   "execution_count": 3,
   "metadata": {},
   "outputs": [],
   "source": [
    "def data_importer(fname, train_set_size=0.75):\n",
    "    data = get_data()\n",
    "    X = data[data.columns[:-2]].as_matrix()\n",
    "    y = data.label.as_matrix()\n",
    "    \n",
    "    N = len(y)\n",
    "    train_set_stop = int(N * train_set_size)\n",
    "    \n",
    "    return X[0:train_set_stop], y[0: train_set_stop], X[train_set_stop:], y[train_set_stop:]"
   ]
  },
  {
   "cell_type": "code",
   "execution_count": 4,
   "metadata": {},
   "outputs": [],
   "source": [
    "class FutureDataset(torch.utils.data.Dataset):\n",
    "    def __init__(self, X, y):\n",
    "        self.X = X\n",
    "        self.y = y\n",
    "\n",
    "    def __len__(self):\n",
    "        return len(self.y)\n",
    "\n",
    "    def __getitem__(self, idx):\n",
    "        return self.X[idx], self.y[idx]"
   ]
  },
  {
   "cell_type": "code",
   "execution_count": 5,
   "metadata": {},
   "outputs": [],
   "source": [
    "class VAE(nn.Module):\n",
    "    def __init__(self):\n",
    "        super(VAE, self).__init__()\n",
    "\n",
    "        self.fc1 = nn.Linear(33, 50)\n",
    "        self.fc21 = nn.Linear(50, 4)\n",
    "        self.fc22 = nn.Linear(50, 4)\n",
    "        self.fc3 = nn.Linear(4, 50)\n",
    "        self.fc4 = nn.Linear(50, 33)\n",
    "\n",
    "    def encode(self, x):\n",
    "        h1 = F.relu(self.fc1(x))\n",
    "        return self.fc21(h1), self.fc22(h1)\n",
    "\n",
    "    def reparameterize(self, mu, logvar):\n",
    "        if self.training:\n",
    "            std = torch.exp(0.5*logvar)\n",
    "            eps = Variable(torch.rand(std.size()).cuda(), requires_grad=False)\n",
    "            return eps.mul(std).add_(mu)\n",
    "        else:\n",
    "            return mu\n",
    "\n",
    "    def decode(self, z):\n",
    "        h3 = F.relu(self.fc3(z))\n",
    "        return F.sigmoid(self.fc4(h3))\n",
    "\n",
    "    def forward(self, x):\n",
    "        mu, logvar = self.encode(x.view(-1, 33))\n",
    "        z = self.reparameterize(mu, logvar)\n",
    "        return self.decode(z), mu, logvar\n",
    "        \n",
    "    def loss_function(self, recon_x, x, mu, logvar):\n",
    "        MSE = F.mse_loss(recon_x, x.view(-1, 33), size_average=False)\n",
    "\n",
    "        # see Appendix B from VAE paper:\n",
    "        # Kingma and Welling. Auto-Encoding Variational Bayes. ICLR, 2014\n",
    "        # https://arxiv.org/abs/1312.6114\n",
    "        # 0.5 * sum(1 + log(sigma^2) - mu^2 - sigma^2)\n",
    "        KLD = -0.5 * torch.sum(1 + logvar - mu.pow(2) - logvar.exp())\n",
    "\n",
    "        return MSE + KLD"
   ]
  },
  {
   "cell_type": "code",
   "execution_count": 6,
   "metadata": {},
   "outputs": [],
   "source": [
    "Xtrain, ytrain, Xtest, ytest = data_importer(\"./data/ES_w_features.csv\")\n",
    "\n",
    "batch_size = 64\n",
    "train_dataset = FutureDataset(Xtrain, ytrain)\n",
    "train_loader = torch.utils.data.DataLoader(train_dataset, batch_size=batch_size)\n",
    "\n",
    "test_dataset = FutureDataset(Xtest, ytest)\n",
    "test_loader = torch.utils.data.DataLoader(test_dataset, batch_size=batch_size)"
   ]
  },
  {
   "cell_type": "code",
   "execution_count": 34,
   "metadata": {},
   "outputs": [],
   "source": [
    "log_interval = 100\n",
    "number_of_epochs = 500"
   ]
  },
  {
   "cell_type": "code",
   "execution_count": 35,
   "metadata": {},
   "outputs": [],
   "source": [
    "vae = VAE().cuda()\n",
    "optimizer = optim.Adam(vae.parameters(), lr=1e-3)"
   ]
  },
  {
   "cell_type": "code",
   "execution_count": 36,
   "metadata": {},
   "outputs": [
    {
     "name": "stdout",
     "output_type": "stream",
     "text": [
      "====> Epoch: 99 Average loss: 0.0690\n",
      "====> Epoch: 199 Average loss: 0.0589\n",
      "====> Epoch: 299 Average loss: 0.0560\n",
      "====> Epoch: 399 Average loss: 0.0557\n",
      "====> Epoch: 499 Average loss: 0.0540\n"
     ]
    }
   ],
   "source": [
    "vae.train()\n",
    "for epoch in range(number_of_epochs):\n",
    "    train_loss = 0\n",
    "    for batch_idx, (data, _) in enumerate(train_loader):\n",
    "        data = Variable(data.float().cuda())\n",
    "        optimizer.zero_grad()\n",
    "        recon_batch, mu, logvar = vae(data)\n",
    "        loss = vae.loss_function(recon_batch, data, mu, logvar)\n",
    "        loss.backward()\n",
    "        train_loss += loss.data[0]\n",
    "        optimizer.step()\n",
    "    \n",
    "    if (epoch+1) % log_interval == 0:\n",
    "        print('====> Epoch: {} Average loss: {:.4f}'.format(\n",
    "              epoch, train_loss / len(train_loader.dataset)))\n"
   ]
  },
  {
   "cell_type": "code",
   "execution_count": 37,
   "metadata": {},
   "outputs": [
    {
     "name": "stdout",
     "output_type": "stream",
     "text": [
      "====> Test set loss: 0.0903\n"
     ]
    }
   ],
   "source": [
    "vae.eval()\n",
    "test_loss = 0\n",
    "for i, (data, _) in enumerate(test_loader):\n",
    "    data = Variable(data.float().cuda(), requires_grad=False)\n",
    "    recon_batch, mu, logvar = vae(data)\n",
    "    test_loss += vae.loss_function(recon_batch, data, mu, logvar).data[0]\n",
    "\n",
    "test_loss /= len(test_loader.dataset)\n",
    "print('====> Test set loss: {:.4f}'.format(test_loss))"
   ]
  },
  {
   "cell_type": "code",
   "execution_count": 38,
   "metadata": {},
   "outputs": [],
   "source": [
    "# Build encoded dataset\n",
    "Xenc = np.array([]).reshape(0, 4)\n",
    "yenc = np.array([])\n",
    "for _, (data,target) in enumerate(train_loader):\n",
    "    data = Variable(data.view(-1,33)).float().cuda()\n",
    "    labels = Variable(target).type(torch.LongTensor).cuda()\n",
    "    \n",
    "    _, data, _ = vae(data)\n",
    "    \n",
    "    batch = data.cpu().data.numpy()\n",
    "    Xenc = np.vstack((Xenc, batch))\n",
    "    yenc = np.append(yenc, target.numpy())\n"
   ]
  },
  {
   "cell_type": "code",
   "execution_count": null,
   "metadata": {},
   "outputs": [],
   "source": []
  },
  {
   "cell_type": "code",
   "execution_count": 42,
   "metadata": {},
   "outputs": [
    {
     "name": "stdout",
     "output_type": "stream",
     "text": [
      "0.5254559855668742\n",
      "What features are prefered [0.27836424 0.15803244 0.24506397 0.31853935]\n"
     ]
    }
   ],
   "source": [
    "# RANDOM FOREST CLASSIFIER\n",
    "clf = RandomForestClassifier(max_depth=2, random_state=0)\n",
    "clf.fit(Xenc, yenc)\n",
    "score = cross_val_score(clf, Xenc, yenc)\n",
    "print(score.mean())\n",
    "\n",
    "print(\"What features are prefered\", clf.feature_importances_)"
   ]
  },
  {
   "cell_type": "code",
   "execution_count": 33,
   "metadata": {},
   "outputs": [
    {
     "name": "stdout",
     "output_type": "stream",
     "text": [
      "0.5497532140840319\n"
     ]
    }
   ],
   "source": [
    "# NAIVE BAYESIAN CLASSIFIER\n",
    "gnb = GaussianNB()\n",
    "gnb.fit(Xenc, yenc)\n",
    "score = cross_val_score(clf, Xenc, yenc)\n",
    "print(score.mean())"
   ]
  },
  {
   "cell_type": "code",
   "execution_count": null,
   "metadata": {},
   "outputs": [],
   "source": [
    "# ORGINAL DATA\n",
    "feats = get_data()\n",
    "Xorg = feats[feats.columns[:-2]].as_matrix()\n",
    "yorg = feats.label.as_matrix()"
   ]
  },
  {
   "cell_type": "code",
   "execution_count": 258,
   "metadata": {},
   "outputs": [
    {
     "name": "stdout",
     "output_type": "stream",
     "text": [
      "0.6964769343589986\n",
      "What features are prefered: \n",
      " [0.02446595 0.03578831 0.05075668 0.04026523 0.06575179 0.02737047\n",
      " 0.05918574 0.03365722 0.0386964  0.03484094 0.02307217 0.04419881\n",
      " 0.04075479 0.03113584 0.02713435 0.02175224 0.02413381 0.02301962\n",
      " 0.03667414 0.02251901 0.02531896 0.01890272 0.02758396 0.02247491\n",
      " 0.02312466 0.02437588 0.02460995 0.02480353 0.02802854 0.02939102\n",
      " 0.01953101 0.02575543 0.00092589]\n"
     ]
    }
   ],
   "source": [
    "# RANDOM FOREST CLASSIFIER ONLY\n",
    "clf = RandomForestClassifier(max_depth=20, random_state=0)\n",
    "clf.fit(Xorg, yorg)\n",
    "score = cross_val_score(clf, Xorg, yorg)\n",
    "print(score.mean())\n",
    "\n",
    "print(\"What features are prefered: \\n\", clf.feature_importances_)"
   ]
  },
  {
   "cell_type": "code",
   "execution_count": null,
   "metadata": {},
   "outputs": [],
   "source": []
  },
  {
   "cell_type": "code",
   "execution_count": 241,
   "metadata": {},
   "outputs": [
    {
     "name": "stdout",
     "output_type": "stream",
     "text": [
      "0.6309750090944672\n"
     ]
    }
   ],
   "source": [
    "# ADABOOST ONLY\n",
    "ada = AdaBoostClassifier(n_estimators=10)\n",
    "ada.fit(Xorg, yorg)  \n",
    "score = cross_val_score(ada, Xorg, yorg)\n",
    "print(score.mean())"
   ]
  },
  {
   "cell_type": "code",
   "execution_count": 181,
   "metadata": {},
   "outputs": [
    {
     "name": "stdout",
     "output_type": "stream",
     "text": [
      "0.7262989879924914\n"
     ]
    }
   ],
   "source": [
    "svc = SVC(gamma=2, C=1)\n",
    "svc.fit(Xorg, yorg)\n",
    "score = cross_val_score(ada, Xorg, yorg)\n",
    "print(score.mean())"
   ]
  },
  {
   "cell_type": "code",
   "execution_count": null,
   "metadata": {},
   "outputs": [],
   "source": []
  },
  {
   "cell_type": "code",
   "execution_count": 136,
   "metadata": {},
   "outputs": [],
   "source": [
    "# PREDICTION RESULTS FROM ENCODER PIPELINE\n",
    "prediction_outputs = []\n",
    "returns = []\n",
    "\n",
    "classifier = clf\n",
    "\n",
    "for idx, observation in enumerate(Xorg):\n",
    "    data = torch.from_numpy(observation)\n",
    "\n",
    "    data = Variable(data).float().cuda()\n",
    "    _, data, _ = vae(data)\n",
    "    output = classifier.predict_proba(data.cpu().data.numpy())\n",
    "    prediction_outputs.append(output[0])\n",
    "\n",
    "len(prediction_outputs)"
   ]
  },
  {
   "cell_type": "code",
   "execution_count": null,
   "metadata": {},
   "outputs": [],
   "source": []
  },
  {
   "cell_type": "code",
   "execution_count": 221,
   "metadata": {},
   "outputs": [],
   "source": [
    "def get_result_df(prediction_outputs, feats):\n",
    "    result_df = pd.DataFrame(prediction_outputs, columns=[\"loser_p\", \"winner_p\"])\n",
    "    result_df[\"label\"] = (result_df[\"winner_p\"] < result_df[\"loser_p\"]).astype(int)\n",
    "    feats = feats.reset_index()\n",
    "    result_df[\"n_return\"] = feats.n_return\n",
    "    result_df[\"longshort\"] = result_df[\"label\"].map({1: 1, 0: -1})\n",
    "    result_df[\"position_return\"] = result_df[\"longshort\"] * result_df[\"n_return\"]\n",
    "\n",
    "    print(\"Predicted long count:\", sum(result_df[\"label\"]))\n",
    "\n",
    "    return result_df"
   ]
  },
  {
   "cell_type": "code",
   "execution_count": null,
   "metadata": {},
   "outputs": [],
   "source": []
  },
  {
   "cell_type": "code",
   "execution_count": 61,
   "metadata": {},
   "outputs": [],
   "source": []
  },
  {
   "cell_type": "code",
   "execution_count": null,
   "metadata": {},
   "outputs": [],
   "source": []
  },
  {
   "cell_type": "code",
   "execution_count": 259,
   "metadata": {},
   "outputs": [
    {
     "name": "stdout",
     "output_type": "stream",
     "text": [
      "Predicted long count: 86\n",
      "Predicted long count: 83\n",
      "Predicted long count: 93\n",
      "Predicted long count: 94\n",
      "Predicted long count: 112\n",
      "Predicted long count: 119\n"
     ]
    }
   ],
   "source": [
    "labels, ret_mon, ret_day, used_data = read_data()\n",
    "\n",
    "position_returns = pd.DataFrame()\n",
    "for tic in [\"ES\", \"FESX\", \"GC\", \"NK\", \"TU\", \"ED\"]:\n",
    "    feats = get_data(tic)\n",
    "    X = feats[feats.columns[:-2]].as_matrix()\n",
    "    #prediction_outputs = np.column_stack((1 - mlpc.predict(X), 0 + mlpc.predict(X)))\n",
    "    prediction_outputs = clf.predict_proba(X)\n",
    "    df = get_result_df(prediction_outputs, feats)\n",
    "    position_returns[tic] = df[\"position_return\"]\n",
    "    \n"
   ]
  },
  {
   "cell_type": "code",
   "execution_count": 260,
   "metadata": {},
   "outputs": [],
   "source": [
    "# Add more columns\n",
    "position_returns[\"monthly_avg\"] = position_returns.mean(axis=1)\n",
    "position_returns[\"monthly_avg_cum\"] = (position_returns[\"monthly_avg\"]+1).cumprod() - 1"
   ]
  },
  {
   "cell_type": "code",
   "execution_count": 261,
   "metadata": {},
   "outputs": [
    {
     "data": {
      "text/plain": [
       "<matplotlib.axes._subplots.AxesSubplot at 0x7f3d02b7c198>"
      ]
     },
     "execution_count": 261,
     "metadata": {},
     "output_type": "execute_result"
    },
    {
     "data": {
      "image/png": "[encoded data removed]",
      "text/plain": [
       "<Figure size 1440x432 with 2 Axes>"
      ]
     },
     "metadata": {},
     "output_type": "display_data"
    }
   ],
   "source": [
    "plt.figure(figsize=(20, 6))\n",
    "\n",
    "# MOTHLY AVG PLOT\n",
    "plt.subplot(1, 2, 1)\n",
    "plt.ylim([0,2])\n",
    "position_returns[\"monthly_avg_cum\"].plot()\n",
    "\n",
    "# DAILY JUHIS\n",
    "plt.subplot(1, 2, 2)\n",
    "plt.ylim([0,2])\n",
    "juhis_df = pd.read_csv('../data/benchmark.csv', parse_dates=False)\n",
    "juhis_df[\"Returns\"].plot()"
   ]
  },
  {
   "cell_type": "code",
   "execution_count": 262,
   "metadata": {},
   "outputs": [
    {
     "name": "stdout",
     "output_type": "stream",
     "text": [
      "Mean:  0.0052330364398436545\n",
      "Std:  0.021883394431437633\n",
      "Sharpe:  0.2391327568599635\n",
      "Mean:  0.7399423283186392\n",
      "Std:  0.3556731556698301\n",
      "Sharpe:  2.0803997055249357\n"
     ]
    }
   ],
   "source": [
    "# Sharpe\n",
    "print(\"Mean: \", position_returns[\"monthly_avg\"].mean())\n",
    "print(\"Std: \", position_returns[\"monthly_avg\"].std())\n",
    "sharpe = position_returns[\"monthly_avg\"].mean() / position_returns[\"monthly_avg\"].std()\n",
    "print(\"Sharpe: \", sharpe)\n",
    "\n",
    "\n",
    "print(\"Mean: \", juhis_df[\"Returns\"].mean())\n",
    "print(\"Std: \", juhis_df[\"Returns\"].std())\n",
    "sharpe = juhis_df[\"Returns\"].mean() / juhis_df[\"Returns\"].std()\n",
    "print(\"Sharpe: \", sharpe)"
   ]
  }
 ],
 "metadata": {
  "kernelspec": {
   "display_name": "Python 3",
   "language": "python",
   "name": "python3"
  },
  "language_info": {
   "codemirror_mode": {
    "name": "ipython",
    "version": 3
   },
   "file_extension": ".py",
   "mimetype": "text/x-python",
   "name": "python",
   "nbconvert_exporter": "python",
   "pygments_lexer": "ipython3",
   "version": "3.6.5"
  }
 },
 "nbformat": 4,
 "nbformat_minor": 2
}
