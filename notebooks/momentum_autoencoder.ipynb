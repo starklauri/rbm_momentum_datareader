{
 "cells": [
  {
   "cell_type": "code",
   "execution_count": 1,
   "metadata": {},
   "outputs": [],
   "source": [
    "import numpy as np\n",
    "import pandas as pd\n",
    "import torch\n",
    "import torch.utils.data\n",
    "import torch.nn as nn\n",
    "import torch.nn.functional as F\n",
    "import torch.optim as optim\n",
    "from torch.autograd import Variable\n",
    "from torchvision import datasets, transforms\n",
    "from torchvision.utils import make_grid , save_image\n",
    "\n",
    "%matplotlib inline\n",
    "import matplotlib.pyplot as plt\n",
    "import matplotlib.image as mpimg\n",
    "\n",
    "from sklearn.ensemble import RandomForestClassifier\n",
    "from sklearn.model_selection import cross_val_score"
   ]
  },
  {
   "cell_type": "code",
   "execution_count": 2,
   "metadata": {},
   "outputs": [],
   "source": [
    "def get_data():\n",
    "    used_data = pd.read_csv('../data/data.csv', index_col=0, parse_dates=True)\n",
    "    return used_data\n",
    "\n",
    "def get_all_tickers():\n",
    "    used_data = get_data()\n",
    "    return used_data.columns\n",
    "\n",
    "def get_returns():\n",
    "    used_data = get_data()\n",
    "    ret_day = used_data.fillna(0)\n",
    "    S = np.exp(used_data.fillna(0)).cumprod()\n",
    "    ret_mon = S.resample('M').ffill().pct_change().dropna() # start 2000-02-29\n",
    "    return ret_day, ret_mon\n",
    "    \n",
    "def form_labels(tic):\n",
    "    ret_day, ret_mon = get_returns()\n",
    "    median_ret = ret_mon.median(1)\n",
    "    labels = ret_mon.shift(-1).gt(median_ret.shift(-1), axis=0).astype(int)[tic]\n",
    "    labels.name = 'label'\n",
    "    return labels\n",
    "\n",
    "def form_features(tic):\n",
    "    ret_day, ret_mon = get_returns()\n",
    "    \n",
    "    feature_data = []\n",
    "        \n",
    "    daily = ret_day[tic]\n",
    "    dfs = []\n",
    "    idx = range(13, len(ret_mon) - 1)\n",
    "    for t in idx:\n",
    "        current_y = ret_mon.index[t].year\n",
    "        current_mon = ret_mon.index[t].month\n",
    "        next_mon_isjan = (ret_mon.index[t+1].month == 1)\n",
    "        start = t - 13\n",
    "        end = t - 2\n",
    "\n",
    "        ret_mon_slice = ret_mon[tic].iloc[start:end+1]\n",
    "\n",
    "        last_date = (daily[(daily.index.year == current_y) \n",
    "                           & (daily.index.month == current_mon)].last_valid_index())\n",
    "\n",
    "        last_date_loc = daily.index.get_loc(last_date)\n",
    "        start_date_loc = last_date_loc - 19\n",
    "\n",
    "        daily_rets_slice = daily.iloc[start_date_loc:last_date_loc + 1]\n",
    "\n",
    "        daily_rets_slice.index = ['R_d_' + str(i) for i in range(1, 21)]\n",
    "        ret_mon_slice.index = ['R_m_' + str(i) for i in range(1, 13)]\n",
    "\n",
    "        conc = pd.concat([daily_rets_slice, ret_mon_slice])\n",
    "        conc['JAN'] = next_mon_isjan\n",
    "        conc['m_ret'] = ret_mon[tic].iloc[t]\n",
    "\n",
    "        conc = conc.to_frame()\n",
    "        conc.columns = [t]\n",
    "        dfs.append(conc)\n",
    "    feats_t = pd.concat(dfs, axis=1).T\n",
    "    feature_data.append(feats_t)\n",
    "    \n",
    "    date_idx = ret_mon.index[idx]\n",
    "    feature_data_df = pd.concat(feature_data, axis=0).set_index(date_idx)\n",
    "    return feature_data_df\n",
    "\n",
    "def form_feats_labels(tickers):\n",
    "    full_data_by_tic = []\n",
    "    for tic in tickers:\n",
    "        feats = form_features(tic)\n",
    "        feats[\"label\"] = (feats[\"m_ret\"] > 0).astype(int)\n",
    "        full_data_by_tic.append(feats)\n",
    "    return pd.concat(full_data_by_tic, axis=0) # datetime index not unique"
   ]
  },
  {
   "cell_type": "code",
   "execution_count": 3,
   "metadata": {},
   "outputs": [],
   "source": [
    "train_size = 0.7\n",
    "tickers = [\"FESX\", \"ES\", \"NK\"]\n",
    "def split_test_train(train_set_size=train_size, tickers = tickers):\n",
    "    Xtrains = []\n",
    "    ytrains = []\n",
    "    Xtests = []\n",
    "    ytests = []\n",
    "    print(tickers)\n",
    "    for tic in tickers:\n",
    "        data = form_feats_labels([tic])\n",
    "        X = data[data.columns[:-2]].as_matrix()\n",
    "        y = data.label.as_matrix()\n",
    "        N = len(y)\n",
    "        train_set_stop = int(N * train_set_size)\n",
    "        \n",
    "        Xtrain = X[0:train_set_stop]\n",
    "        Xtrains.append(Xtrain)\n",
    "        ytrain = y[0: train_set_stop]\n",
    "        ytrains.append(ytrain)\n",
    "        \n",
    "        Xtest = X[train_set_stop:]\n",
    "        Xtests.append(Xtest)\n",
    "        ytest = y[train_set_stop:]\n",
    "        ytests.append(ytest)\n",
    "    \n",
    "    Xtrains_c = np.concatenate(Xtrains)\n",
    "    ytrains_c = np.concatenate(ytrains)\n",
    "    Xtests_c = np.concatenate(Xtests)\n",
    "    ytests_c = np.concatenate(ytests)\n",
    "    return Xtrains_c, ytrains_c, Xtests_c, ytests_c     "
   ]
  },
  {
   "cell_type": "code",
   "execution_count": 4,
   "metadata": {},
   "outputs": [],
   "source": [
    "# Data loader abstraction\n",
    "class CSVDataset(torch.utils.data.Dataset):\n",
    "    def __init__(self, fname_x, fname_y):\n",
    "        self.X = np.genfromtxt(fname_x, delimiter=',')\n",
    "        self.y = np.genfromtxt(fname_y, delimiter=',')\n",
    "\n",
    "    def __len__(self):\n",
    "        return len(self.y)\n",
    "\n",
    "    def __getitem__(self, idx):\n",
    "        return self.X[idx], self.y[idx]\n",
    "    \n",
    "class LocalDataset(torch.utils.data.Dataset):\n",
    "    def __init__(self, X, y):\n",
    "        self.X = X\n",
    "        self.y = y\n",
    "\n",
    "    def __len__(self):\n",
    "        return len(self.y)\n",
    "\n",
    "    def __getitem__(self, idx):\n",
    "        return self.X[idx], self.y[idx]"
   ]
  },
  {
   "cell_type": "code",
   "execution_count": 5,
   "metadata": {},
   "outputs": [],
   "source": [
    "# VARIATIONAL AUTOENCODER\n",
    "class VAE(nn.Module):\n",
    "    def __init__(self):\n",
    "        super(VAE, self).__init__()\n",
    "\n",
    "        self.fc1 = nn.Linear(33, 50)\n",
    "        self.fc21 = nn.Linear(50, 4)\n",
    "        self.fc22 = nn.Linear(50, 4)\n",
    "        self.fc3 = nn.Linear(4, 50)\n",
    "        self.fc4 = nn.Linear(50, 33)\n",
    "\n",
    "    def encode(self, x):\n",
    "        h1 = F.relu(self.fc1(x))\n",
    "        # mu, log_variance\n",
    "        return self.fc21(h1), self.fc22(h1)\n",
    "\n",
    "    def reparameterize(self, mu, logvar):\n",
    "        if self.training:\n",
    "            std = torch.exp(0.5*logvar)\n",
    "            eps = Variable(torch.rand(std.size()), requires_grad=False)\n",
    "            return eps.mul(std).add_(mu)\n",
    "        else:\n",
    "            return mu\n",
    "\n",
    "    def decode(self, z):\n",
    "        h3 = F.relu(self.fc3(z))\n",
    "        return F.sigmoid(self.fc4(h3))\n",
    "\n",
    "    def forward(self, x):\n",
    "        mu, logvar = self.encode(x.view(-1, 33))\n",
    "        z = self.reparameterize(mu, logvar)\n",
    "        return self.decode(z), mu, logvar\n",
    "        \n",
    "    def loss_function(self, recon_x, x, mu, logvar):\n",
    "        MSE = F.mse_loss(recon_x, x.view(-1, 33), size_average=False)\n",
    "\n",
    "        # see Appendix B from VAE paper:\n",
    "        # Kingma and Welling. Auto-Encoding Variational Bayes. ICLR, 2014\n",
    "        # https://arxiv.org/abs/1312.6114\n",
    "        # 0.5 * sum(1 + log(sigma^2) - mu^2 - sigma^2)\n",
    "        KLD = -0.5 * torch.sum(1 + logvar - mu.pow(2) - logvar.exp())\n",
    "\n",
    "        return MSE + KLD"
   ]
  },
  {
   "cell_type": "code",
   "execution_count": 6,
   "metadata": {},
   "outputs": [
    {
     "name": "stdout",
     "output_type": "stream",
     "text": [
      "['FESX', 'ES', 'NK']\n"
     ]
    }
   ],
   "source": [
    "batch_size = 64\n",
    "Xtrain, ytrain, Xtest, ytest = split_test_train()\n",
    "train_dataset = LocalDataset(Xtrain, ytrain)\n",
    "train_loader = torch.utils.data.DataLoader(train_dataset, batch_size=batch_size)\n",
    "\n",
    "test_dataset = LocalDataset(Xtest, ytest)\n",
    "test_loader = torch.utils.data.DataLoader(test_dataset, batch_size=batch_size)"
   ]
  },
  {
   "cell_type": "code",
   "execution_count": 7,
   "metadata": {},
   "outputs": [],
   "source": [
    "log_interval = 100\n",
    "number_of_epochs = 100\n",
    "\n",
    "vae = VAE()\n",
    "optimizer = optim.Adam(vae.parameters(), lr=1e-3)"
   ]
  },
  {
   "cell_type": "code",
   "execution_count": 8,
   "metadata": {},
   "outputs": [
    {
     "name": "stdout",
     "output_type": "stream",
     "text": [
      "====> Epoch: 99 Average loss: 0.1116\n"
     ]
    }
   ],
   "source": [
    "# TRAIN VAE\n",
    "vae.train()\n",
    "for epoch in range(number_of_epochs):\n",
    "    train_loss = 0\n",
    "    for batch_idx, (data, _) in enumerate(train_loader):\n",
    "        data = Variable(data.float())\n",
    "        optimizer.zero_grad()\n",
    "        recon_batch, mu, logvar = vae(data)\n",
    "        loss = vae.loss_function(recon_batch, data, mu, logvar)\n",
    "        loss.backward()\n",
    "        train_loss += loss.data[0]\n",
    "        optimizer.step()\n",
    "    \n",
    "    if (epoch+1) % log_interval == 0:\n",
    "        print('====> Epoch: {} Average loss: {:.4f}'.format(\n",
    "              epoch, train_loss / len(train_loader.dataset)))"
   ]
  },
  {
   "cell_type": "code",
   "execution_count": 9,
   "metadata": {},
   "outputs": [
    {
     "name": "stdout",
     "output_type": "stream",
     "text": [
      "====> Test set loss: 0.4092\n"
     ]
    }
   ],
   "source": [
    "vae.eval()\n",
    "test_loss = 0\n",
    "for i, (data, _) in enumerate(test_loader):\n",
    "    data = Variable(data.float(), requires_grad=False)\n",
    "    recon_batch, mu, logvar = vae(data)\n",
    "    test_loss += vae.loss_function(recon_batch, data, mu, logvar).data[0]\n",
    "\n",
    "test_loss /= len(test_loader.dataset)\n",
    "print('====> Test set loss: {:.4f}'.format(test_loss))"
   ]
  },
  {
   "cell_type": "code",
   "execution_count": 10,
   "metadata": {},
   "outputs": [],
   "source": [
    "# Build encoded dataset\n",
    "def get_encoded_data(data_loader, model):\n",
    "    Xenc = np.array([])\n",
    "    yenc = np.array([])\n",
    "    for _, (data, target) in enumerate(data_loader):\n",
    "        data = Variable(data.view(-1,33)).float()\n",
    "        labels = Variable(target).type(torch.LongTensor)\n",
    "\n",
    "        _, data, _ = model(data)\n",
    "\n",
    "        batch = data.cpu().data.numpy()\n",
    "        if len(Xenc) == 0:\n",
    "            Xenc = batch\n",
    "            yenc = target.numpy()\n",
    "        else:\n",
    "            Xenc = np.vstack((Xenc, batch))\n",
    "            yenc = np.append(yenc, target.numpy())\n",
    "            \n",
    "    return Xenc, yenc"
   ]
  },
  {
   "cell_type": "code",
   "execution_count": 11,
   "metadata": {},
   "outputs": [
    {
     "name": "stdout",
     "output_type": "stream",
     "text": [
      "0.6284772464574683\n"
     ]
    },
    {
     "data": {
      "text/plain": [
       "<matplotlib.axes._subplots.AxesSubplot at 0x7f4f20145940>"
      ]
     },
     "execution_count": 11,
     "metadata": {},
     "output_type": "execute_result"
    },
    {
     "data": {
      "image/png": "[encoded data removed]",
      "text/plain": [
       "<Figure size 432x720 with 1 Axes>"
      ]
     },
     "metadata": {},
     "output_type": "display_data"
    }
   ],
   "source": [
    "# Get encoded training set\n",
    "X_train_enc, y_train_enc = get_encoded_data(train_loader, vae)\n",
    "\n",
    "# Train classifier that uses encoded data\n",
    "random_forest_clf = RandomForestClassifier(max_depth=3, random_state=0)\n",
    "random_forest_clf.fit(X_train_enc, y_train_enc)\n",
    "score = cross_val_score(random_forest_clf, X_train_enc, y_train_enc)\n",
    "print(score.mean())\n",
    "\n",
    "# Plot prefered features\n",
    "# TODO add column names\n",
    "rf_df = pd.DataFrame(random_forest_clf.feature_importances_)\n",
    "rf_df.columns = [\"Feature importance\"]\n",
    "rf_df.plot(kind='barh', figsize=(6,10))"
   ]
  },
  {
   "cell_type": "code",
   "execution_count": 12,
   "metadata": {},
   "outputs": [
    {
     "name": "stdout",
     "output_type": "stream",
     "text": [
      "Number of 1s 152\n",
      "Number of observations 183\n",
      "ACCURACY 0.7049180327868853\n"
     ]
    }
   ],
   "source": [
    "# TEST SET\n",
    "X_test_enc, y_test_enc = get_encoded_data(test_loader, vae)\n",
    "\n",
    "predicted_labels = random_forest_clf.predict(X_test_enc)\n",
    "print(\"Number of 1s\", sum(predicted_labels))\n",
    "print(\"Number of observations\", y_test_enc.size)\n",
    "correct_labels = sum(predicted_labels == y_test_enc)\n",
    "total = predicted_labels.size\n",
    "print(\"ACCURACY\", correct_labels/total)"
   ]
  },
  {
   "cell_type": "code",
   "execution_count": 13,
   "metadata": {},
   "outputs": [],
   "source": [
    "def get_positions(prediction_outputs):\n",
    "    result_df = pd.DataFrame(prediction_outputs, columns=[\"loser_p\", \"winner_p\"])\n",
    "    label = (result_df.loc[:,\"winner_p\"] > result_df.loc[:,\"loser_p\"]).astype(int) # <\n",
    "    result_df[\"longshort\"] = label.map({1: 1, 0: -1})\n",
    "\n",
    "    print(\"Predicted long count:\", sum(label))\n",
    "\n",
    "    return result_df[\"longshort\"].as_matrix()"
   ]
  },
  {
   "cell_type": "code",
   "execution_count": 18,
   "metadata": {},
   "outputs": [],
   "source": []
  },
  {
   "cell_type": "code",
   "execution_count": 33,
   "metadata": {},
   "outputs": [],
   "source": [
    "def get_vol_adjusted_returns(ticker, position_returns, targe_vol=0.05, ewm_period=60):\n",
    "    ret_day, ret_mon = get_returns()\n",
    "    ret_day = ret_day[ticker]\n",
    "    ret_mon = ret_mon[ticker]\n",
    "    \n",
    "\n",
    "    leverage = targe_vol/(ret_day.ewm(ewm_period).std()*np.sqrt(250))\n",
    "    leverage_mon = leverage.resample('BM').ffill()\n",
    "    # Drop last row\n",
    "    leverage_mon = leverage_mon[:-1]\n",
    "    # Take the last n rows\n",
    "    leverage_mon = leverage_mon.tail(len(position_returns))\n",
    "    return position_returns * leverage_mon.as_matrix()"
   ]
  },
  {
   "cell_type": "code",
   "execution_count": 40,
   "metadata": {},
   "outputs": [
    {
     "name": "stdout",
     "output_type": "stream",
     "text": [
      "Predicted long count: 54\n"
     ]
    },
    {
     "name": "stderr",
     "output_type": "stream",
     "text": [
      "/u/13/toiviav1/unix/.conda/envs/dippa/lib/python3.6/site-packages/ipykernel_launcher.py:15: SettingWithCopyWarning: \n",
      "A value is trying to be set on a copy of a slice from a DataFrame.\n",
      "Try using .loc[row_indexer,col_indexer] = value instead\n",
      "\n",
      "See the caveats in the documentation: http://pandas.pydata.org/pandas-docs/stable/indexing.html#indexing-view-versus-copy\n",
      "  from ipykernel import kernelapp as app\n",
      "/u/13/toiviav1/unix/.conda/envs/dippa/lib/python3.6/site-packages/ipykernel_launcher.py:16: SettingWithCopyWarning: \n",
      "A value is trying to be set on a copy of a slice from a DataFrame.\n",
      "Try using .loc[row_indexer,col_indexer] = value instead\n",
      "\n",
      "See the caveats in the documentation: http://pandas.pydata.org/pandas-docs/stable/indexing.html#indexing-view-versus-copy\n",
      "  app.launch_new_instance()\n",
      "/u/13/toiviav1/unix/.conda/envs/dippa/lib/python3.6/site-packages/ipykernel_launcher.py:18: SettingWithCopyWarning: \n",
      "A value is trying to be set on a copy of a slice from a DataFrame.\n",
      "Try using .loc[row_indexer,col_indexer] = value instead\n",
      "\n",
      "See the caveats in the documentation: http://pandas.pydata.org/pandas-docs/stable/indexing.html#indexing-view-versus-copy\n"
     ]
    },
    {
     "name": "stdout",
     "output_type": "stream",
     "text": [
      "Predicted long count: 49\n",
      "Predicted long count: 49\n",
      "Sharpe 2.2182021725516634\n"
     ]
    },
    {
     "data": {
      "text/plain": [
       "<matplotlib.axes._subplots.AxesSubplot at 0x7f4f1d2fa048>"
      ]
     },
     "execution_count": 40,
     "metadata": {},
     "output_type": "execute_result"
    },
    {
     "data": {
      "image/png": "[encoded data removed]",
      "text/plain": [
       "<Figure size 432x288 with 1 Axes>"
      ]
     },
     "metadata": {},
     "output_type": "display_data"
    }
   ],
   "source": [
    "# Optimize this code if time\n",
    "\n",
    "vol_adj_returns = pd.DataFrame()\n",
    "ticker = [\"ES\", \"FESX\", \"NK\"]\n",
    "for ticker in ticker:\n",
    "    data = form_feats_labels([ticker])\n",
    "    test_data = data.iloc[141:]\n",
    "\n",
    "    es_dataset = LocalDataset(test_data[test_data.columns[:-2]].as_matrix(), test_data[\"label\"].as_matrix())\n",
    "    es_loader = torch.utils.data.DataLoader(es_dataset, batch_size=batch_size)\n",
    "\n",
    "    X_es_enc, y_es_enc = get_encoded_data(es_loader, vae)\n",
    "    positions = get_positions(random_forest_clf.predict_proba(X_es_enc))\n",
    "\n",
    "    test_data[\"position\"] = positions\n",
    "    test_data[\"position_return\"] = test_data[\"position\"] * test_data[\"m_ret\"]\n",
    "\n",
    "    test_data[\"vol_adjusted\"] = get_vol_adjusted_returns(ticker, test_data[\"position_return\"], targe_vol=0.15)\n",
    "    vol_adj_returns[ticker] = test_data[\"vol_adjusted\"]\n",
    "\n",
    "total_returns = vol_adj_returns.mean(1)"
   ]
  },
  {
   "cell_type": "code",
   "execution_count": 58,
   "metadata": {},
   "outputs": [
    {
     "data": {
      "text/plain": [
       "<matplotlib.axes._subplots.AxesSubplot at 0x7f4f1c473dd8>"
      ]
     },
     "execution_count": 58,
     "metadata": {},
     "output_type": "execute_result"
    },
    {
     "data": {
      "image/png": "[encoded data removed]",
      "text/plain": [
       "<Figure size 1440x432 with 2 Axes>"
      ]
     },
     "metadata": {},
     "output_type": "display_data"
    }
   ],
   "source": [
    "m = total_returns.mean() * 12\n",
    "s = total_returns.std() * np.sqrt(12)\n",
    "\n",
    "plt.figure(figsize=(20, 6))\n",
    "\n",
    "# MOTHLY AVG PLOT\n",
    "plt.subplot(1, 2, 1)\n",
    "plt.ylim([0,2])\n",
    "((total_returns + 1).cumprod() -1).plot(title=f'Vol adjusted returns, sharpe: {round(m/s, 4)}')\n",
    "\n",
    "# DAILY JUHIS\n",
    "plt.subplot(1, 2, 2)\n",
    "plt.ylim([0,2])\n",
    "juhis_df = pd.read_csv('../data/benchmark.csv', parse_dates=False)\n",
    "juhis_df = juhis_df.tail(1260)\n",
    "\n",
    "juhis_df[\"daily_returns\"] = (juhis_df[\"Returns\"] + 1).pct_change()\n",
    "juhis_df[\"Returns\"] = juhis_df[\"Returns\"] / juhis_df[\"Returns\"].iloc[0] - 1\n",
    "\n",
    "m = juhis_df[\"daily_returns\"].mean() * 250\n",
    "s = juhis_df[\"daily_returns\"].std() * np.sqrt(250)\n",
    "juhis_df[\"Returns\"].plot(title=f'Juhis returns, sharpe: {round(m/s, 4)}')"
   ]
  },
  {
   "cell_type": "code",
   "execution_count": 61,
   "metadata": {},
   "outputs": [
    {
     "name": "stderr",
     "output_type": "stream",
     "text": [
      "/u/13/toiviav1/unix/.conda/envs/dippa/lib/python3.6/site-packages/torch/serialization.py:159: UserWarning: Couldn't retrieve source code for container of type VAE. It won't be checked for correctness upon loading.\n",
      "  \"type \" + obj.__name__ + \". It won't be checked \"\n"
     ]
    }
   ],
   "source": [
    "torch.save(vae, 'vae_sweetspot.pt')"
   ]
  }
 ],
 "metadata": {
  "kernelspec": {
   "display_name": "Python 3",
   "language": "python",
   "name": "python3"
  }
 },
 "nbformat": 4,
 "nbformat_minor": 2
}
